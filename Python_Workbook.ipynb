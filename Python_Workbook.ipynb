{
 "cells": [
  {
   "attachments": {},
   "cell_type": "markdown",
   "metadata": {},
   "source": [
    "Python Workbook"
   ]
  },
  {
   "cell_type": "code",
   "execution_count": null,
   "metadata": {},
   "outputs": [],
   "source": [
    "# 1) Variables and inputs\n",
    "# Define 3 variables and check their datatypes.\n",
    "# Take a variable as an user input and check its datatype."
   ]
  },
  {
   "cell_type": "code",
   "execution_count": null,
   "metadata": {},
   "outputs": [],
   "source": [
    "# 2) Arithmetic Operations\n",
    "# Add, Subtract, Multiply, and divide 2 variables.\n",
    "# Check the same for different datatypes."
   ]
  },
  {
   "cell_type": "code",
   "execution_count": null,
   "metadata": {},
   "outputs": [],
   "source": [
    "# 3) String Operations\n",
    "# Create a string and check indices\n",
    "# Replace part of the string with 'hello'"
   ]
  },
  {
   "cell_type": "code",
   "execution_count": null,
   "metadata": {},
   "outputs": [],
   "source": [
    "# 4) Lists\n",
    "# Create a string\n",
    "# Append, concatenate and insert elements into the string\n",
    "# List Comprehension"
   ]
  },
  {
   "cell_type": "code",
   "execution_count": null,
   "metadata": {},
   "outputs": [],
   "source": [
    "# 5) if Statements\n",
    "# If the list is empty, print 'Empty', if it has one element print 'One', else print 'Full'\n"
   ]
  },
  {
   "cell_type": "code",
   "execution_count": null,
   "metadata": {},
   "outputs": [],
   "source": [
    "# 6) Loops\n",
    "# Iterate through the list using a for and a while loop."
   ]
  },
  {
   "cell_type": "code",
   "execution_count": null,
   "metadata": {},
   "outputs": [],
   "source": [
    "# 7) Dictionaries\n",
    "# Create a dictionary to store numbers in their numeric form to character form.\n",
    "# Iterate through keys and values separately"
   ]
  },
  {
   "cell_type": "code",
   "execution_count": null,
   "metadata": {},
   "outputs": [],
   "source": [
    "# 8) Modules\n",
    "# Install pandas, numpy, matplotlib.pyplot\n",
    "# import said libraries"
   ]
  }
 ],
 "metadata": {
  "language_info": {
   "name": "python"
  },
  "orig_nbformat": 4
 },
 "nbformat": 4,
 "nbformat_minor": 2
}
